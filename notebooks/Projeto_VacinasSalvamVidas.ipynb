{
 "cells": [
  {
   "cell_type": "markdown",
   "id": "f5b50d66",
   "metadata": {},
   "source": [
    "---\n",
    "# Projeto: Vacinas Salvam Vidas\n",
    "## Uma análise da eficâcia do Programa Nacional de Imunizações (PNI) e uma breve solução para o negacionismo do movimento antivacina\n",
    "\n",
    "![Na imagem animada, temos uma mão aplicando uma vacina de conhecimento para combater as fakenews](../images/Vacina_contra_Fakenews.gif)\n",
    "\n",
    "---\n",
    "## Visão geral do projeto:\n",
    "\n",
    " - Objetivo do projeto\n",
    " - Introdução\n",
    "    - O movimento antivacina\n",
    "    - Por que o SUS é importante?\n",
    "        - Programa Nacional de Imunizações (PNI)\n",
    "    - Dados públicos\n",
    "        - Tabnet e o DataSUS\n",
    " - Nota técnica e Origem dos dados\n",
    " - Importação de bibliotecas\n",
    " - Carregamento das bases de dados\n",
    " - Limpeza e ajustes nos dados\n",
    " - Visualização dos dados\n",
    " - Levantamento de Hipóteses\n",
    " - Pesquisa complementar\n",
    " - Conclusão\n",
    " - Referências\n",
    " \n",
    " ---\n",
    " \n",
    "## Objetivo do projeto\n",
    "\n",
    "O principal objetivo desse projeto é fazer uma análise da eficâcia do Programa Nacional de Imunizações (PNI) mostrando que vacinas podem sim reduzir o número de mortes relacionadas à determinadas doenças. \n",
    "\n",
    "Nesse projeto também será abordado conceitos sobre o negacionismo do movimento antivacina e uma proposta de solução para evitar a disseminação do maior virus da atualidade: as fake news!\n",
    "\n",
    "---\n",
    "\n",
    "## Introdução\n",
    "\n",
    "---\n",
    "### O movimento antivacina\n",
    "\n",
    "Segundo um relatório da OMS, divulgado em 2019, o movimento antivacina é considerado um dos maiores problemas a saúde global. Esse movimento vai contra todo o avançado cientifico alcançado no combate as doenças letais que podem ser evitadas, ou reduzidas, com o Programa de Imunização Nacional.\n",
    "\n",
    "![Um homem levanta cartaz contra a vacina Coronavac, do laboratório chinês Sinovac, durante manifestação em São Paulo.](../images/vacinas_nao.jpg) <small style=\"float:right\">foto por: AMANDA PEROBELLI / REUTERS</small>\n",
    "\n",
    "<br>\n",
    "\n",
    "Muitas são as razões que uma pessoa pode ter para não se vacinar ou para não levarem seus filhos para a vacinação, um desses motivos é a falta ou dificuldade de acesso, em determinadas regiões sociogeográficas. Entretando, a falta de confiança nas vacinas vem crescendo devido esse movimento negacionista, que por muitas das vezes diz que ou a vacina não funciona, ou é uma forma do governo eliminar determinados grupos sociais ou até mesmo alegando que o governo irá implantar uma espécie de \"chip\" que irá controlar ou rastear essas pessoas, afirmações que chegam a ser ridiculas dado todo o avanço e beneficio que iremos discutir ao longo do desenvolvimento desse projeto.\n",
    "\n",
    "---\n",
    "\n",
    "### Por que o SUS é importante?\n",
    "\n",
    "O SUS (Sistema Único de Saúde) dá o direito à saúde para qualquer cidadão brasileiro, oferecendo acesso integral, universal e gratuito a serviços de saúde.\n",
    "\n",
    "Paralelamente à realização de consultas, exames e internações, o SUS também promove campanhas de vacinação e ações de prevenção de vigilância sanitária, como fiscalização de alimentos e registro de medicamentos.\n",
    "\n",
    "![Gif animado do personagem Mr.Bean vestido de médico mostrando o dedo polegar, dando um sinal de \"positivo\" e sorrindo. Com o texto \"Good Job!!!\" na legenda](../images/mrbean.gif)\n",
    "\n",
    "E apesar de alguns problemas nas questões de distribuição de verba pública pelo governo, o SUS é responsável por disponibilizar, gerenciar e distribuir diversas doses de vacinas anualmente para população alvo de forma completamente gratuita. \n",
    "\n",
    "#### Programa Nacional de Imunizações (PNI)\n",
    "\n",
    "O Programa Nacional de Imunizações (PNI) é uma ação do Governo Federal e que tem por objetivo eliminar, por meio da vacinação em massa da população, uma série de doenças. Como resultado, entre os casos de sucesso estão a erradicação da varíola e da poliomielite do territorio nacional.\n",
    "\n",
    "Por meio desse programa, toda a população brasileira tem acesso às vacinas recomendadas pela Organização Mundial de Saúde (OMS).\n",
    "\n",
    "O PNI tem como objetivos a inclusão social, ao permitir que qualquer cidadão tenha acesso às imunizações.\n",
    "\n",
    "---\n",
    "\n",
    "### Dados públicos\n",
    "\n",
    "Dados públicos são dados que estão disponíveis para qualquer pessoa acessar, esses dados não tem nenhum tipo de controle ou privação de acesso.\n",
    "São dados públicos, geralmente dados que toda população deve ou pode ter acesso, como por exemplo, dados que indicam os gastos de parlamentares com o dinheiro público (dinheiro que provem de impostos de forma direta ou indireta).\n",
    "\n",
    "#### Tabnet e o DataSUS\n",
    "\n",
    "\"O aplicativo TABNET é um tabulador genérico de domínio público que permite organizar dados de forma rápida conforme a consulta que se deseja tabular. Foi desenvolvido pelo DATASUS para gerar informações das bases de dados do Sistema Único de Saúde.\" <sub><sup>fonte: \"8. Referências - TABNET\" - http://www2.datasus.gov.br/DATASUS/APRESENTACAO/TABNET/Tutorial_tabNet_FINAL.pptx_html/html/index.html#2</sup></sub>\n",
    "\n",
    "\"O DATASUS disponibiliza informações que podem servir para subsidiar  análises objetivas da situação sanitária, tomadas de decisão baseadas em evidências e elaboração de programas de ações de saúde.\n",
    "\n",
    "A mensuração do estado de saúde da população é uma tradição em saúde pública. Teve seu início com o registro sistemático de dados de mortalidade e de sobrevivência (Estatísticas Vitais - Mortalidade e Nascidos Vivos). Com os avanços no controle das doenças infecciosas (informações Epidemiológicas e Morbidade) e com a melhor compreensão do conceito de saúde e de seus determinantes populacionais, a análise da situação sanitária passou a incorporar outras dimensões do estado de saúde.\n",
    "\n",
    "Dados de morbidade, incapacidade, acesso a serviços, qualidade da atenção, condições de vida e fatores ambientais passaram a ser métricas utilizadas na construção de Indicadores de Saúde, que se traduzem em informação relevante para a quantificação e a avaliação das informações em saúde.\" <sub><sup>fonte \"8. Referências - DATASUS\" - http://www2.datasus.gov.br/DATASUS/index.php?area=02</sup></sub>\n",
    "\n",
    "---\n",
    "\n",
    "### Nota técnica e Origem dos dados"
   ]
  },
  {
   "cell_type": "code",
   "execution_count": 2,
   "id": "b9d5eff6",
   "metadata": {},
   "outputs": [
    {
     "data": {
      "text/html": [
       "\n",
       "        <iframe\n",
       "            width=\"900\"\n",
       "            height=\"800\"\n",
       "            src=\"../technical_notes/Imun_cobertura_desde_1994.pdf\"\n",
       "            frameborder=\"0\"\n",
       "            allowfullscreen\n",
       "        ></iframe>\n",
       "        "
      ],
      "text/plain": [
       "<IPython.lib.display.IFrame at 0x22683da13a0>"
      ]
     },
     "execution_count": 2,
     "metadata": {},
     "output_type": "execute_result"
    }
   ],
   "source": [
    "from IPython.display import IFrame\n",
    "IFrame(\"../technical_notes/Imun_cobertura_desde_1994.pdf\", width=900, height=800)"
   ]
  },
  {
   "cell_type": "markdown",
   "id": "6dbf48d0",
   "metadata": {},
   "source": [
    "<sup><sub>Nota técnica completa em: [http://tabnet.datasus.gov.br/cgi/pni/notatecnicaCobertura.pdf](http://tabnet.datasus.gov.br/cgi/pni/notatecnicaCobertura.pdf) ou, caso o link chegue a ficar offline futuramente, ficará disponível localmente: [../technical_notes/Imun_cobertura_desde_1994.pdf](../technical_notes/Imun_cobertura_desde_1994.pdf)</sub></sup>\n",
    "\n",
    "\n",
    "Esses dados foram coletados no [Tabnet do PNI](http://tabnet.datasus.gov.br/cgi/tabcgi.exe?pni/cnv/cpniuf.def), aplicando os seguintes filtros:\n",
    " - Linha: Ano\n",
    " - Coluna: Unidade da Federação\n",
    " - Conteúdo: Coberturas Vacinais\n",
    " - Período disponíveis: 1994 - 2019\n",
    "\n",
    "Com isso, foi obitido a seguinte coleção de dados (dataset) em CSV, que se encontra nesse projeto em [../datasets/Cobertura_Vacinais_Ano_Unidade_Federacao_1994_2019.csv](../datasets/Cobertura_Vacinais_Ano_Unidade_Federacao_1994_2019.csv)"
   ]
  },
  {
   "cell_type": "code",
   "execution_count": null,
   "id": "0c51ef0c",
   "metadata": {},
   "outputs": [],
   "source": []
  }
 ],
 "metadata": {
  "kernelspec": {
   "display_name": "Python 3",
   "language": "python",
   "name": "python3"
  },
  "language_info": {
   "codemirror_mode": {
    "name": "ipython",
    "version": 3
   },
   "file_extension": ".py",
   "mimetype": "text/x-python",
   "name": "python",
   "nbconvert_exporter": "python",
   "pygments_lexer": "ipython3",
   "version": "3.8.8"
  }
 },
 "nbformat": 4,
 "nbformat_minor": 5
}
