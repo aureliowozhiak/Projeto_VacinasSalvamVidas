{
 "cells": [
  {
   "cell_type": "markdown",
   "id": "3a10cf72",
   "metadata": {},
   "source": [
    "---\n",
    "# Projeto: Vacinas Salvam Vidas\n",
    "## Uma análise da eficâcia do Programa Nacional de Imunizações (PNI) e o negacionismo do movimento antivacina\n",
    "\n",
    "![Na imagem animada, temos uma mão aplicando uma vacina de conhecimento para combater as fakenews](../images/Vacina_contra_Fakenews.gif)\n",
    "\n",
    "---\n",
    "### Visão geral do projeto:\n",
    "\n",
    " - Objetivo do projeto\n",
    " - Introdução\n",
    "    - A popularização da internet\n",
    "    - O movimento antivacina\n",
    "    - Porque o SUS é importante?\n",
    "    - Dados públicos\n",
    " - Nota técnica e Origem dos dados\n",
    " - Importação de bibliotecas\n",
    " - Carregamento das bases de dados\n",
    " - Limpeza e ajustes nos dados\n",
    " - Visualização dos dados\n",
    " - Levantamento de Hipóteses\n",
    " - Pesquisa complementar\n",
    " - Conclusão\n",
    " - Referências\n",
    " \n",
    " ---"
   ]
  },
  {
   "cell_type": "code",
   "execution_count": null,
   "id": "c6b852a5",
   "metadata": {},
   "outputs": [],
   "source": []
  }
 ],
 "metadata": {
  "kernelspec": {
   "display_name": "Python 3",
   "language": "python",
   "name": "python3"
  },
  "language_info": {
   "codemirror_mode": {
    "name": "ipython",
    "version": 3
   },
   "file_extension": ".py",
   "mimetype": "text/x-python",
   "name": "python",
   "nbconvert_exporter": "python",
   "pygments_lexer": "ipython3",
   "version": "3.8.8"
  }
 },
 "nbformat": 4,
 "nbformat_minor": 5
}
